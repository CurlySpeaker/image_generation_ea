{
 "cells": [
  {
   "cell_type": "code",
   "execution_count": null,
   "metadata": {},
   "outputs": [],
   "source": [
    "import numpy as np\n",
    "import cv2\n",
    "import matplotlib.pyplot as plt\n",
    "from IPython import display\n",
    "import random\n",
    "import copy\n",
    "from itertools import product\n",
    "from multiprocessing import Pool"
   ]
  },
  {
   "cell_type": "code",
   "execution_count": null,
   "metadata": {},
   "outputs": [],
   "source": [
    "target = cv2.imread('/project/data/images/ilya.jpg')\n",
    "target = cv2.cvtColor(target, cv2.COLOR_BGR2RGB)\n",
    "target = target/255.\n",
    "plt.imshow(target)"
   ]
  },
  {
   "cell_type": "code",
   "execution_count": null,
   "metadata": {},
   "outputs": [],
   "source": [
    "class PolygonIndivid:\n",
    "    \n",
    "    def __init__(self, target_image, amount_of_shapes):\n",
    "        self.target_image = target_image\n",
    "        self.amount_of_shapes = amount_of_shapes\n",
    "        \n",
    "        self.image = self.init_image()\n",
    "        self.points = self.generate_points(self.amount_of_shapes)\n",
    "        self.colors = self.generate_colors(self.amount_of_shapes)\n",
    "        \n",
    "        self.draw(self.points, self.colors)\n",
    "        \n",
    "        \n",
    "    def init_image(self):\n",
    "        return np.zeros(self.target_image.shape)\n",
    "        \n",
    "        \n",
    "    def generate_colors(self, amount):\n",
    "        colors = np.random.random((amount, 4))\n",
    "        return colors\n",
    "    \n",
    "    \n",
    "    def generate_points(self, amount, cardinality=3):\n",
    "        points = []\n",
    "        for _ in range(amount):\n",
    "            x = np.random.randint(0, self.image.shape[1], cardinality)\n",
    "            y = np.random.randint(0, self.image.shape[0], cardinality)\n",
    "            points.append(np.stack([x,y],axis=1))\n",
    "        points = np.array(points)\n",
    "        return points\n",
    "    \n",
    "    \n",
    "    def draw(self, polygons, colors):\n",
    "        for (polygon, color) in zip(polygons, colors):\n",
    "            tmp_img = self.image.copy()\n",
    "            tmp_img = cv2.fillPoly(tmp_img, [polygon], color[:3])\n",
    "            alpha = color[3]\n",
    "            self.image = cv2.addWeighted(tmp_img,alpha,self.image,1-alpha,0)"
   ]
  },
  {
   "cell_type": "code",
   "execution_count": null,
   "metadata": {},
   "outputs": [],
   "source": [
    "class CircleIndivid:\n",
    "    \n",
    "    def __init__(self, target_image, amount_of_shapes, min_radius, max_radius):\n",
    "        self.target_image = target_image\n",
    "        self.amount_of_shapes = amount_of_shapes\n",
    "        self.min_radius = min_radius\n",
    "        self.max_radius = max_radius\n",
    "        self.image = self.init_image()\n",
    "        self.points = self.generate_points(self.amount_of_shapes)\n",
    "        self.colors = self.generate_colors(self.amount_of_shapes)\n",
    "        self.draw(self.points, self.colors)\n",
    "        \n",
    "        \n",
    "    def init_image(self):\n",
    "        return np.zeros(self.target_image.shape)\n",
    "        \n",
    "        \n",
    "    def generate_colors(self, amount):\n",
    "        colors = np.random.random((amount, 4))\n",
    "        return colors\n",
    "    \n",
    "    \n",
    "    def generate_points(self, amount, cardinality=1):\n",
    "        points = []\n",
    "        for _ in range(amount):\n",
    "            x = np.random.randint(0, self.image.shape[1], cardinality)\n",
    "            y = np.random.randint(0, self.image.shape[0], cardinality)\n",
    "            points.append(np.stack([x,y],axis=1))\n",
    "        points = np.array(points)\n",
    "        return points\n",
    "    \n",
    "    \n",
    "    def draw(self, points, colors):\n",
    "        for (point, color) in zip(points, colors):\n",
    "            tmp_img = self.image.copy()\n",
    "            tmp_img = cv2.circle(tmp_img, tuple(point[0]), np.random.randint(self.min_radius,self.max_radius+1), tuple(color[:3]), -1)\n",
    "            alpha = color[3]\n",
    "            self.image = cv2.addWeighted(tmp_img,alpha,self.image,1-alpha,0)"
   ]
  },
  {
   "cell_type": "code",
   "execution_count": null,
   "metadata": {},
   "outputs": [],
   "source": [
    "class Population:\n",
    "    \n",
    "    def __init__(self, target_image, best):\n",
    "        self.target_image = target_image\n",
    "        self.best = best\n",
    "    \n",
    "    \n",
    "    def loss(self, individs):\n",
    "        ind_imgs = np.array([i.image for i in individs])\n",
    "        mse = (ind_imgs - self.target_image)**2/np.prod(self.target_image.shape)\n",
    "        mse = np.sum(mse, axis=(1,2,3))\n",
    "        return mse\n",
    "    \n",
    "    \n",
    "    def mutate_ind(self, ind, min_amount, max_amount):\n",
    "        amount = np.random.randint(min_amount, max_amount)\n",
    "        points, colors = ind.generate_points(amount), ind.generate_colors(amount)\n",
    "        ind.draw(points, colors)\n",
    "        return ind\n",
    "    \n",
    "    \n",
    "    def select_best(self, individs):\n",
    "        mse = self.loss(individs)\n",
    "        self.error = np.min(mse)\n",
    "        sorted_inds = [x[1] for x in sorted(zip(mse, individs), key=lambda x: x[0])]\n",
    "        return sorted_inds[0]"
   ]
  },
  {
   "cell_type": "code",
   "execution_count": null,
   "metadata": {},
   "outputs": [],
   "source": [
    "def show_real_and_best(pop, history):\n",
    "    history.append(pop.error)\n",
    "    figure = plt.figure(figsize=(20,10))\n",
    "    figure.add_subplot(2,2,1)\n",
    "    plt.imshow(pop.target_image)\n",
    "    figure.add_subplot(2,2,2)\n",
    "    plt.imshow(pop.best.image)\n",
    "    figure.add_subplot(2,2,(3,4))\n",
    "    plt.plot(history)\n",
    "    plt.show()"
   ]
  },
  {
   "cell_type": "code",
   "execution_count": null,
   "metadata": {},
   "outputs": [],
   "source": [
    "def run(pop, children=10, min_amount=1, max_amount=10):\n",
    "    children = [copy.deepcopy(pop.best) for _ in range(children)]\n",
    "    children = [pop.mutate_ind(child, min_amount, max_amount) for child in children]\n",
    "    new_best = pop.select_best(children)\n",
    "    pop.best = new_best"
   ]
  },
  {
   "cell_type": "code",
   "execution_count": null,
   "metadata": {},
   "outputs": [],
   "source": [
    "pop = Population(target, CircleIndivid(target, 0, 5,20))\n",
    "history = []"
   ]
  },
  {
   "cell_type": "code",
   "execution_count": null,
   "metadata": {},
   "outputs": [],
   "source": [
    "pop.best.min_radius = 2\n",
    "pop.best.max_radius = 3"
   ]
  },
  {
   "cell_type": "code",
   "execution_count": null,
   "metadata": {
    "scrolled": false
   },
   "outputs": [],
   "source": [
    "history = []\n",
    "\n",
    "\n",
    "EPOCHES = 1000\n",
    "\n",
    "POP_SIZE = 30\n",
    "MIN_NEW_SHAPES = 1\n",
    "MAX_NEW_SHAPES = 3\n",
    "\n",
    "for i in range(len(history),EPOCHES):\n",
    "    run(pop, POP_SIZE, MIN_NEW_SHAPES, MAX_NEW_SHAPES)\n",
    "    show_real_and_best(pop, history)\n",
    "    #cv2.imwrite('/project/data/anime/{}.png'.format(i), (pop.best.image*255).astype(np.uint8))\n",
    "    display.clear_output(wait=True)"
   ]
  }
 ],
 "metadata": {
  "kernelspec": {
   "display_name": "Python 3",
   "language": "python",
   "name": "python3"
  },
  "language_info": {
   "codemirror_mode": {
    "name": "ipython",
    "version": 3
   },
   "file_extension": ".py",
   "mimetype": "text/x-python",
   "name": "python",
   "nbconvert_exporter": "python",
   "pygments_lexer": "ipython3",
   "version": "3.5.2"
  }
 },
 "nbformat": 4,
 "nbformat_minor": 2
}
